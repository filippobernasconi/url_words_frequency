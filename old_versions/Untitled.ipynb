{
 "cells": [
  {
   "cell_type": "code",
   "execution_count": 17,
   "metadata": {},
   "outputs": [],
   "source": [
    "lista = [\"a\",\"b\",\"c\",\"a\",\"b\",\"b\"]"
   ]
  },
  {
   "cell_type": "code",
   "execution_count": 18,
   "metadata": {},
   "outputs": [
    {
     "name": "stdout",
     "output_type": "stream",
     "text": [
      "[['a', 2], ['b', 3], ['c', 1], ['a', 2], ['b', 3], ['b', 3]]\n"
     ]
    }
   ],
   "source": [
    "def CountFrequency(list_saved_words): \n",
    "    lista_2 = []\n",
    "    \n",
    "    for item in list_saved_words:\n",
    "        local_list = [item, list_saved_words.count(item)]\n",
    "        lista_2.append(local_list)\n",
    "    \n",
    "    return lista_2\n",
    "        \n",
    "\n",
    "lista = CountFrequency(lista)\n",
    "\n",
    "\n",
    "print(lista)\n",
    "      \n"
   ]
  },
  {
   "cell_type": "code",
   "execution_count": 21,
   "metadata": {},
   "outputs": [
    {
     "data": {
      "text/plain": [
       "[['a', 2], ['b', 3], ['c', 1]]"
      ]
     },
     "execution_count": 21,
     "metadata": {},
     "output_type": "execute_result"
    }
   ],
   "source": [
    "def removeDuplicates(lista):\n",
    "    temp_list = []\n",
    "    for item in lista:\n",
    "        if item not in temp_list:\n",
    "            temp_list.append(item)\n",
    "    return temp_list\n",
    "\n",
    "lista = removeDuplicates(lista)\n",
    "lista"
   ]
  },
  {
   "cell_type": "code",
   "execution_count": null,
   "metadata": {},
   "outputs": [],
   "source": []
  }
 ],
 "metadata": {
  "kernelspec": {
   "display_name": "Python 3",
   "language": "python",
   "name": "python3"
  },
  "language_info": {
   "codemirror_mode": {
    "name": "ipython",
    "version": 3
   },
   "file_extension": ".py",
   "mimetype": "text/x-python",
   "name": "python",
   "nbconvert_exporter": "python",
   "pygments_lexer": "ipython3",
   "version": "3.8.3"
  }
 },
 "nbformat": 4,
 "nbformat_minor": 4
}
