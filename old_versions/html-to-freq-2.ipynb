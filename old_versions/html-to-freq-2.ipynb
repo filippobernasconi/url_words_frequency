{
 "cells": [
  {
   "cell_type": "code",
   "execution_count": 1,
   "metadata": {},
   "outputs": [
    {
     "ename": "NameError",
     "evalue": "name 'dprint' is not defined",
     "output_type": "error",
     "traceback": [
      "\u001b[1;31m---------------------------------------------------------------------------\u001b[0m",
      "\u001b[1;31mNameError\u001b[0m                                 Traceback (most recent call last)",
      "\u001b[1;32m<ipython-input-1-e62800a13336>\u001b[0m in \u001b[0;36m<module>\u001b[1;34m\u001b[0m\n\u001b[0;32m     14\u001b[0m \u001b[0msorteddict\u001b[0m \u001b[1;33m=\u001b[0m \u001b[0mobo\u001b[0m\u001b[1;33m.\u001b[0m\u001b[0msortFreqDict\u001b[0m\u001b[1;33m(\u001b[0m\u001b[0mdictionary\u001b[0m\u001b[1;33m)\u001b[0m\u001b[1;33m\u001b[0m\u001b[1;33m\u001b[0m\u001b[0m\n\u001b[0;32m     15\u001b[0m \u001b[1;33m\u001b[0m\u001b[0m\n\u001b[1;32m---> 16\u001b[1;33m \u001b[1;32mfor\u001b[0m \u001b[0ms\u001b[0m \u001b[1;32min\u001b[0m \u001b[0msorteddict\u001b[0m\u001b[1;33m:\u001b[0m \u001b[0mdprint\u001b[0m\u001b[1;33m(\u001b[0m\u001b[0mstr\u001b[0m\u001b[1;33m(\u001b[0m\u001b[0ms\u001b[0m\u001b[1;33m)\u001b[0m\u001b[1;33m)\u001b[0m\u001b[1;33m\u001b[0m\u001b[1;33m\u001b[0m\u001b[0m\n\u001b[0m",
      "\u001b[1;31mNameError\u001b[0m: name 'dprint' is not defined"
     ]
    }
   ],
   "source": [
    "# html-to-freq-2.py\n",
    "\n",
    "import urllib.request, urllib.error, urllib.parse\n",
    "import obo\n",
    "\n",
    "url = 'http://www.oldbaileyonline.org/browse.jsp?id=t17800628-33&div=t17800628-33'\n",
    "\n",
    "response = urllib.request.urlopen(url)\n",
    "html = response.read()\n",
    "text = obo.stripTags(html).lower()\n",
    "fullwordlist = obo.stripNonAlphaNum(text)\n",
    "wordlist = obo.removeStopwords(fullwordlist, obo.stopwords)\n",
    "dictionary = obo.wordListToFreqDict(wordlist)\n",
    "sorteddict = obo.sortFreqDict(dictionary)\n",
    "\n",
    "for s in sorteddict: dprint(str(s))"
   ]
  },
  {
   "cell_type": "code",
   "execution_count": null,
   "metadata": {},
   "outputs": [],
   "source": []
  }
 ],
 "metadata": {
  "kernelspec": {
   "display_name": "Python 3",
   "language": "python",
   "name": "python3"
  },
  "language_info": {
   "codemirror_mode": {
    "name": "ipython",
    "version": 3
   },
   "file_extension": ".py",
   "mimetype": "text/x-python",
   "name": "python",
   "nbconvert_exporter": "python",
   "pygments_lexer": "ipython3",
   "version": "3.8.3"
  }
 },
 "nbformat": 4,
 "nbformat_minor": 4
}
