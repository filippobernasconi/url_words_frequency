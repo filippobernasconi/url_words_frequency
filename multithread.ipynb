{
 "cells": [
  {
   "cell_type": "code",
   "execution_count": 1,
   "metadata": {},
   "outputs": [],
   "source": [
    "import concurrent.futures\n",
    "from selenium import webdriver\n",
    "from time import sleep\n",
    "from concurrent.futures import ThreadPoolExecutor"
   ]
  },
  {
   "cell_type": "code",
   "execution_count": 2,
   "metadata": {},
   "outputs": [],
   "source": [
    "URLS = ['http://www.foxnews.com/',\n",
    "        'http://www.cnn.com/',\n",
    "        'http://switchfan.com',\n",
    "        'http://europffe.wsj.com/',\n",
    "        'http://sportlegnano.it',\n",
    "        'http://www.bbc.co.uk/',\n",
    "        'http://some-made-up-domain.com/']"
   ]
  },
  {
   "cell_type": "code",
   "execution_count": 3,
   "metadata": {},
   "outputs": [],
   "source": [
    "def load_url(url):\n",
    "    print(\"appena preso \"+url)\n",
    "    driver = webdriver.Chrome(\"webdriver/chromedriver\")\n",
    "    driver.get(url)\n",
    "    sleep(5)\n",
    "    home_page_content = driver.find_element_by_tag_name('body').text\n",
    "    print(\"scrape finale\",url,home_page_content[:20])\n",
    "    driver.close()\n",
    "    return"
   ]
  },
  {
   "cell_type": "code",
   "execution_count": 6,
   "metadata": {},
   "outputs": [
    {
     "name": "stdout",
     "output_type": "stream",
     "text": [
      "appena preso http://www.foxnews.com/\n",
      "appena preso http://www.cnn.com/\n",
      "appena preso http://switchfan.com\n",
      "scrape finale http://switchfan.com ETW :USA | France | \n",
      "appena preso http://europffe.wsj.com/\n",
      "scrape finale http://www.foxnews.com/ By using this site, \n",
      "appena preso http://sportlegnano.it\n",
      "appena preso http://www.bbc.co.uk/\n",
      "scrape finale http://www.cnn.com/ World\n",
      "US Politics\n",
      "Bu\n",
      "appena preso http://some-made-up-domain.com/\n",
      "scrape finale http://sportlegnano.it Il rispetto della tu\n",
      "scrape finale http://www.bbc.co.uk/ We've updated our Pr\n",
      "scrape finale http://some-made-up-domain.com/ CONTROL PANEL\n",
      "Reserv\n"
     ]
    }
   ],
   "source": [
    "with concurrent.futures.ThreadPoolExecutor(max_workers=3) as executor:\n",
    "    future_to_url = {executor.submit(load_url, url): url for url in URLS}\n",
    "    "
   ]
  },
  {
   "cell_type": "code",
   "execution_count": 5,
   "metadata": {},
   "outputs": [
    {
     "ename": "IndentationError",
     "evalue": "unexpected indent (<ipython-input-5-904f8fd59190>, line 3)",
     "output_type": "error",
     "traceback": [
      "\u001b[1;36m  File \u001b[1;32m\"<ipython-input-5-904f8fd59190>\"\u001b[1;36m, line \u001b[1;32m3\u001b[0m\n\u001b[1;33m    future_to_url = {executor.submit(load_url, url, 60): url for url in URLS}\u001b[0m\n\u001b[1;37m    ^\u001b[0m\n\u001b[1;31mIndentationError\u001b[0m\u001b[1;31m:\u001b[0m unexpected indent\n"
     ]
    }
   ],
   "source": [
    "#with concurrent.futures.ThreadPoolExecutor(max_workers=5) as executor:\n",
    "    # Start the load operations and mark each future with its URL\n",
    "    future_to_url = {executor.submit(load_url, url, 60): url for url in URLS}\n",
    "    for future in concurrent.futures.as_completed(future_to_url):\n",
    "        url = future_to_url[future]\n",
    "        try:\n",
    "            data = future.result()\n",
    "        except Exception as exc:\n",
    "            print('%r generated an exception: %s' % (url, exc))\n",
    "        else:\n",
    "            print('%r page is %d bytes' % (url, len(data)))\n"
   ]
  }
 ],
 "metadata": {
  "kernelspec": {
   "display_name": "Python 3",
   "language": "python",
   "name": "python3"
  },
  "language_info": {
   "codemirror_mode": {
    "name": "ipython",
    "version": 3
   },
   "file_extension": ".py",
   "mimetype": "text/x-python",
   "name": "python",
   "nbconvert_exporter": "python",
   "pygments_lexer": "ipython3",
   "version": "3.8.3"
  }
 },
 "nbformat": 4,
 "nbformat_minor": 4
}
